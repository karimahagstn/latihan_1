{
  "nbformat": 4,
  "nbformat_minor": 0,
  "metadata": {
    "colab": {
      "provenance": [],
      "authorship_tag": "ABX9TyOvu9DNrV8lLhD0YiWVpR2E",
      "include_colab_link": true
    },
    "kernelspec": {
      "name": "python3",
      "display_name": "Python 3"
    },
    "language_info": {
      "name": "python"
    }
  },
  "cells": [
    {
      "cell_type": "markdown",
      "metadata": {
        "id": "view-in-github",
        "colab_type": "text"
      },
      "source": [
        "<a href=\"https://colab.research.google.com/github/karimahagstn/latihan_1/blob/main/rumah_sakit.ipynb\" target=\"_parent\"><img src=\"https://colab.research.google.com/assets/colab-badge.svg\" alt=\"Open In Colab\"/></a>"
      ]
    },
    {
      "cell_type": "code",
      "execution_count": 1,
      "metadata": {
        "colab": {
          "base_uri": "https://localhost:8080/"
        },
        "id": "5nI70hjZZ_b9",
        "outputId": "23cd3d78-7bdd-4335-cbff-a03501c99907"
      },
      "outputs": [
        {
          "output_type": "stream",
          "name": "stdout",
          "text": [
            "Departemen di Rumah Sakit: ['Kardiologi', 'THT']\n",
            "Dokter di Departemen Kardiologi: ['Dr. Siti']\n",
            "Dokter di Departemen THT: ['Dr. Siti']\n",
            "Pasien di bawah perawatan Dr. Budi: ['Pasien: illy agustin, Usia: 30, Rekam Medis 102: Pilek']\n",
            "Pasien di bawah perawatan Dr. Siti: ['Pasien: John Doe, Usia: 45, Rekam Medis 101: Gangguan Jantung']\n"
          ]
        }
      ],
      "source": [
        "class RekamMedis:\n",
        "    def __init__(self, id_rekam, rincian):\n",
        "        self.id_rekam = id_rekam\n",
        "        self.rincian = rincian\n",
        "\n",
        "    def get_rincian(self):\n",
        "        return f\"Rekam Medis {self.id_rekam}: {self.rincian}\"\n",
        "\n",
        "class Pasien:\n",
        "    def __init__(self, nama, usia, id_rekam, rincian):\n",
        "        self.nama = nama\n",
        "        self.usia = usia\n",
        "        self.rekam_medis = RekamMedis(id_rekam, rincian)  # Komposisi\n",
        "\n",
        "    def get_info(self):\n",
        "        return f\"Pasien: {self.nama}, Usia: {self.usia}, {self.rekam_medis.get_rincian()}\"\n",
        "\n",
        "class Dokter:\n",
        "    def __init__(self, nama, spesialis):\n",
        "        self.nama = nama\n",
        "        self.spesialis = spesialis\n",
        "        self.pasien = []  # Agregasi\n",
        "\n",
        "    def tambahkan_pasien(self, pasien):\n",
        "        self.pasien.append(pasien)\n",
        "\n",
        "    def daftar_pasien(self):\n",
        "        return [pasien.get_info() for pasien in self.pasien]\n",
        "\n",
        "class Departemen:\n",
        "    def __init__(self, nama):\n",
        "        self.nama = nama\n",
        "        self.dokter = []  # Komposisi\n",
        "\n",
        "    def tambahkan_dokter(self, dokter):\n",
        "        self.dokter.append(dokter)\n",
        "\n",
        "    def daftar_dokter(self):\n",
        "        return [dokter.nama for dokter in self.dokter]\n",
        "\n",
        "class RumahSakit:\n",
        "    def __init__(self, nama):\n",
        "        self.nama = nama\n",
        "        self.departemen = []  # Komposisi\n",
        "\n",
        "    def tambahkan_departemen(self, departemen):\n",
        "        self.departemen.append(departemen)\n",
        "\n",
        "    def daftar_departemen(self):\n",
        "        return [departemen.nama for departemen in self.departemen]\n",
        "\n",
        "# Contoh Penggunaan\n",
        "rumah_sakit = RumahSakit(\"Rumah Sakit sekarwangi\")\n",
        "departemen_kardiologi = Departemen(\"Kardiologi\")\n",
        "departemen_tht = Departemen(\"THT\")\n",
        "\n",
        "dokter_kardiologi = Dokter(\"Dr. Budi\", \"Kardiolog\")\n",
        "dokter_tht = Dokter(\"Dr. Siti\", \"THT\")\n",
        "\n",
        "pasien_jantung = Pasien(\"John Doe\", 45, 101, \"Gangguan Jantung\")\n",
        "pasien_pilek = Pasien(\"illy agustin\", 30, 102, \"Pilek\")\n",
        "\n",
        "dokter_kardiologi.tambahkan_pasien(pasien_jantung)\n",
        "dokter_tht.tambahkan_pasien(pasien_pilek)\n",
        "\n",
        "departemen_kardiologi.tambahkan_dokter(dokter_kardiologi)\n",
        "departemen_tht.tambahkan_dokter(dokter_tht)\n",
        "\n",
        "rumah_sakit.tambahkan_departemen(departemen_kardiologi)\n",
        "rumah_sakit.tambahkan_departemen(departemen_tht)\n",
        "\n",
        "print(\"Departemen di Rumah Sakit:\", rumah_sakit.daftar_departemen())\n",
        "print(\"Dokter di Departemen Kardiologi:\", departemen_tht.daftar_dokter())\n",
        "print(\"Dokter di Departemen THT:\", departemen_tht.daftar_dokter())\n",
        "print(\"Pasien di bawah perawatan Dr. Budi:\", dokter_tht.daftar_pasien())\n",
        "print(\"Pasien di bawah perawatan Dr. Siti:\", dokter_kardiologi.daftar_pasien())\n"
      ]
    }
  ]
}