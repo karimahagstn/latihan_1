{
  "nbformat": 4,
  "nbformat_minor": 0,
  "metadata": {
    "colab": {
      "provenance": [],
      "authorship_tag": "ABX9TyM/ua6A+ZVdtLathLbeiZqS",
      "include_colab_link": true
    },
    "kernelspec": {
      "name": "python3",
      "display_name": "Python 3"
    },
    "language_info": {
      "name": "python"
    }
  },
  "cells": [
    {
      "cell_type": "markdown",
      "metadata": {
        "id": "view-in-github",
        "colab_type": "text"
      },
      "source": [
        "<a href=\"https://colab.research.google.com/github/karimahagstn/latihan_1/blob/main/pbo10.ipynb\" target=\"_parent\"><img src=\"https://colab.research.google.com/assets/colab-badge.svg\" alt=\"Open In Colab\"/></a>"
      ]
    },
    {
      "cell_type": "code",
      "execution_count": 1,
      "metadata": {
        "colab": {
          "base_uri": "https://localhost:8080/"
        },
        "id": "dAR6gQzA6A22",
        "outputId": "7b728e13-a96b-47e4-f54a-ba9beb9a18fd"
      },
      "outputs": [
        {
          "output_type": "stream",
          "name": "stdout",
          "text": [
            "Ticket booked successfully for user1. Remaining tickets: 4\n",
            "Incorrect password.\n",
            "User  'user3' not found.\n",
            "Only 'credit' payment is accepted.\n",
            "Ticket booked successfully for user1. Remaining tickets: 3\n",
            "Ticket booked successfully for user1. Remaining tickets: 2\n",
            "Ticket booked successfully for user1. Remaining tickets: 1\n",
            "Ticket booked successfully for user1. Remaining tickets: 0\n",
            "No tickets available for booking.\n"
          ]
        }
      ],
      "source": [
        "class TicketNotAvailableError(Exception):\n",
        "    \"\"\"Exception raised when the requested ticket is not available.\"\"\"\n",
        "    def __init__(self, message=\"Ticket not available.\"):\n",
        "        self.message = message\n",
        "        super().__init__(self.message)\n",
        "\n",
        "class InvalidPaymentError(Exception):\n",
        "    \"\"\"Exception raised for invalid payment methods.\"\"\"\n",
        "    def __init__(self, message=\"Invalid payment method.\"):\n",
        "        self.message = message\n",
        "        super().__init__(self.message)\n",
        "\n",
        "class UserNotFoundError(Exception):\n",
        "    \"\"\"Exception raised when a user is not found.\"\"\"\n",
        "    def __init__(self, message=\"User  not found.\"):\n",
        "        self.message = message\n",
        "        super().__init__(self.message)\n",
        "\n",
        "class ConcertTicketBooking:\n",
        "    def __init__(self):\n",
        "        self.available_tickets = 5  # Total available tickets\n",
        "        self.users = {\"user1\": \"password1\", \"user2\": \"password2\"}  # Sample users\n",
        "\n",
        "    def book_ticket(self, username, password, payment_method):\n",
        "        # Check if user exists\n",
        "        if username not in self.users:\n",
        "            raise UserNotFoundError(f\"User  '{username}' not found.\")\n",
        "\n",
        "        # Check if password is correct\n",
        "        if self.users[username] != password:\n",
        "            raise InvalidPaymentError(\"Incorrect password.\")\n",
        "\n",
        "        # Check if tickets are available\n",
        "        if self.available_tickets <= 0:\n",
        "            raise TicketNotAvailableError(\"No tickets available for booking.\")\n",
        "\n",
        "        # Check payment method (for simplicity, we assume only 'credit' is valid)\n",
        "        if payment_method != \"credit\":\n",
        "            raise InvalidPaymentError(\"Only 'credit' payment is accepted.\")\n",
        "\n",
        "        # If all checks pass, book the ticket\n",
        "        self.available_tickets -= 1\n",
        "        print(f\"Ticket booked successfully for {username}. Remaining tickets: {self.available_tickets}\")\n",
        "\n",
        "# Simulasi pemesanan tiket\n",
        "def main():\n",
        "    booking_system = ConcertTicketBooking()\n",
        "\n",
        "    try:\n",
        "        booking_system.book_ticket(\"user1\", \"password1\", \"credit\")  # Valid booking\n",
        "        booking_system.book_ticket(\"user1\", \"wrongpassword\", \"credit\")  # Invalid password\n",
        "    except UserNotFoundError as e:\n",
        "        print(e)\n",
        "    except InvalidPaymentError as e:\n",
        "        print(e)\n",
        "    except TicketNotAvailableError as e:\n",
        "        print(e)\n",
        "\n",
        "    try:\n",
        "        booking_system.book_ticket(\"user3\", \"password1\", \"credit\")  # User not found\n",
        "    except UserNotFoundError as e:\n",
        "        print(e)\n",
        "    except InvalidPaymentError as e:\n",
        "        print(e)\n",
        "    except TicketNotAvailableError as e:\n",
        "        print(e)\n",
        "\n",
        "    try:\n",
        "        booking_system.book_ticket(\"user1\", \"password1\", \"cash\")  # Invalid payment method\n",
        "    except UserNotFoundError as e:\n",
        "        print(e)\n",
        "    except InvalidPaymentError as e:\n",
        "        print(e)\n",
        "    except TicketNotAvailableError as e:\n",
        "        print(e)\n",
        "\n",
        "    # Booking remaining tickets\n",
        "    for _ in range(5):\n",
        "        try:\n",
        "            booking_system.book_ticket(\"user1\", \"password1\", \"credit\")\n",
        "        except UserNotFoundError as e:\n",
        "            print(e)\n",
        "        except InvalidPaymentError as e:\n",
        "            print(e)\n",
        "        except TicketNotAvailableError as e:\n",
        "            print(e)\n",
        "\n",
        "if __name__ == \"__main__\":\n",
        "    main()\n"
      ]
    }
  ]
}