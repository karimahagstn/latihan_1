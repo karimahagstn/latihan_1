{
  "nbformat": 4,
  "nbformat_minor": 0,
  "metadata": {
    "colab": {
      "provenance": [],
      "authorship_tag": "ABX9TyNBdkHyM4mLEVL36n5Bzw+M",
      "include_colab_link": true
    },
    "kernelspec": {
      "name": "python3",
      "display_name": "Python 3"
    },
    "language_info": {
      "name": "python"
    }
  },
  "cells": [
    {
      "cell_type": "markdown",
      "metadata": {
        "id": "view-in-github",
        "colab_type": "text"
      },
      "source": [
        "<a href=\"https://colab.research.google.com/github/karimahagstn/latihan_1/blob/main/CLASSIFICATION_MECHINE_LEARNING_3.ipynb\" target=\"_parent\"><img src=\"https://colab.research.google.com/assets/colab-badge.svg\" alt=\"Open In Colab\"/></a>"
      ]
    },
    {
      "cell_type": "code",
      "execution_count": 1,
      "metadata": {
        "colab": {
          "base_uri": "https://localhost:8080/"
        },
        "id": "O2DfMhvXc9ZR",
        "outputId": "d607072b-81d0-454f-fbbf-b86eb14695c7"
      },
      "outputs": [
        {
          "output_type": "stream",
          "name": "stdout",
          "text": [
            "Prediksi dengan K=2: TERIMA\n",
            "Prediksi dengan K=5: TERIMA\n"
          ]
        }
      ],
      "source": [
        "from sklearn.neighbors import KNeighborsClassifier\n",
        "\n",
        "# Data training\n",
        "# Format: [Umur (X1), Credit Rating (X2), Nilai Pinjaman (X3)]\n",
        "X_train = [\n",
        "    [40, 5, 60],\n",
        "    [50, 3, 30],\n",
        "    [50, 3, 70],\n",
        "    [60, 6, 60],\n",
        "    [60, 6, 70],\n",
        "    [60, 3, 60]\n",
        "]\n",
        "\n",
        "# Label penerimaan pinjaman (Y)\n",
        "y_train = ['TOLAK', 'TOLAK', 'TERIMA', 'TERIMA', 'TERIMA', 'TERIMA']\n",
        "\n",
        "# Data uji (Data baru yang akan diprediksi)\n",
        "X_test = [[50, 3, 40]]\n",
        "\n",
        "# KNN dengan K = 2\n",
        "knn_2 = KNeighborsClassifier(n_neighbors=2)\n",
        "knn_2.fit(X_train, y_train)\n",
        "pred_2 = knn_2.predict(X_test)\n",
        "print(f\"Prediksi dengan K=2: {pred_2[0]}\")\n",
        "\n",
        "# KNN dengan K = 5\n",
        "knn_5 = KNeighborsClassifier(n_neighbors=5)\n",
        "knn_5.fit(X_train, y_train)\n",
        "pred_5 = knn_5.predict(X_test)\n",
        "print(f\"Prediksi dengan K=5: {pred_5[0]}\")\n"
      ]
    },
    {
      "cell_type": "code",
      "source": [
        "from sklearn.neighbors import KNeighborsClassifier\n",
        "\n",
        "# Data training\n",
        "#training data\n",
        "X_train = [[40,5, 60], [50,3,30], [50,3,70],[60,6,60],[60,6,70],[60,3,60]]\n",
        "y_train = ['TOLAK', 'TOLAK', 'TERIMA','TERIMA','TERIMA','TERIMA']\n",
        "\n",
        "# Inisialisasi model KNN dengan jumlah tetangga (n_neighbors) sebesar 3 (ubah nilai k)\n",
        "## Initialize the KNN model with the number of neighbors (n_neighbors) of 3 (change the value of k)\n",
        "knn = KNeighborsClassifier(n_neighbors=2)\n",
        "\n",
        "# Inisialisasi model KNN dengan jumlah tetangga (n_neighbors) sebesar 3 (ubah nilai k)\n",
        "## Initialize the KNN model with the number of neighbors (n_neighbors) of 3 (change the value of k)\n",
        "knn = KNeighborsClassifier(n_neighbors=5)\n",
        "\n",
        "# Melatih model dengan data training\n",
        "#train model using data training\n",
        "knn.fit(X_train, y_train)\n",
        "\n",
        "# Data test\n",
        "X_test = [[50,3,40]]\n",
        "y_test = ['TERIMA']  # Label yang seharusnya didapat dari prediksi\n",
        "\n",
        "# Melakukan prediksi dengan model yang sudah dilatih\n",
        "predictions = knn.predict(X_test)\n",
        "\n",
        "# Mengevaluasi performa model\n",
        "accuracy = knn.score(X_test, y_test)\n",
        "print(\"Akurasi:\", accuracy)\n",
        "\n",
        "# Menampilkan hasil prediksi\n",
        "print(\"Hasil Prediksi:\")\n",
        "for i, pred in enumerate(predictions):\n",
        "    print(f\"Data test {i+1}: Kelas prediksi = {pred}\")\n"
      ],
      "metadata": {
        "colab": {
          "base_uri": "https://localhost:8080/"
        },
        "id": "MQ8Eo0lgdGc1",
        "outputId": "714de685-fbfa-486f-fb13-cb0b32608e1f"
      },
      "execution_count": 2,
      "outputs": [
        {
          "output_type": "stream",
          "name": "stdout",
          "text": [
            "Akurasi: 1.0\n",
            "Hasil Prediksi:\n",
            "Data test 1: Kelas prediksi = TERIMA\n"
          ]
        }
      ]
    }
  ]
}