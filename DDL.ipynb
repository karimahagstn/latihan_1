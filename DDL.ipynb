{
  "nbformat": 4,
  "nbformat_minor": 0,
  "metadata": {
    "colab": {
      "provenance": [],
      "authorship_tag": "ABX9TyPRdK1TJL1iSq9zSFz/cH4o",
      "include_colab_link": true
    },
    "kernelspec": {
      "name": "python3",
      "display_name": "Python 3"
    },
    "language_info": {
      "name": "python"
    }
  },
  "cells": [
    {
      "cell_type": "markdown",
      "metadata": {
        "id": "view-in-github",
        "colab_type": "text"
      },
      "source": [
        "<a href=\"https://colab.research.google.com/github/karimahagstn/latihan_1/blob/main/DDL.ipynb\" target=\"_parent\"><img src=\"https://colab.research.google.com/assets/colab-badge.svg\" alt=\"Open In Colab\"/></a>"
      ]
    },
    {
      "cell_type": "code",
      "execution_count": 1,
      "metadata": {
        "id": "RMjfXjPCwnRM"
      },
      "outputs": [],
      "source": [
        "import sqlite3\n",
        "import pandas as pd"
      ]
    },
    {
      "cell_type": "code",
      "source": [
        "# Connect to SQLite database\n",
        "conn = sqlite3.connect('my_database.db')\n",
        "cursor = conn.cursor()\n",
        "\n",
        "# Create Students table\n",
        "cursor.execute('''\n",
        "CREATE TABLE Students (\n",
        "    id INTEGER PRIMARY KEY,\n",
        "    name TEXT NOT NULL,\n",
        "    age INTEGER NOT NULL\n",
        ");\n",
        "''')\n",
        "\n",
        "# Create Courses table\n",
        "cursor.execute('''\n",
        "CREATE TABLE Courses (\n",
        "    id INTEGER PRIMARY KEY,\n",
        "    title TEXT NOT NULL,\n",
        "    credits INTEGER NOT NULL\n",
        ");\n",
        "''')\n",
        "\n",
        "# Create Enrollments table\n",
        "cursor.execute('''\n",
        "CREATE TABLE Enrollments (\n",
        "    student_id INTEGER,\n",
        "    course_id INTEGER,\n",
        "    FOREIGN KEY (student_id) REFERENCES Students(id),\n",
        "    FOREIGN KEY (course_id) REFERENCES Courses(id)\n",
        ");\n",
        "''')\n",
        "\n",
        "# Commit the changes\n",
        "conn.commit()"
      ],
      "metadata": {
        "id": "C7LgQ2E_wvth"
      },
      "execution_count": 2,
      "outputs": []
    },
    {
      "cell_type": "code",
      "source": [
        "# Insert data into Students\n",
        "students_data = [\n",
        "    ('Alice', 20),\n",
        "    ('Bob', 22),\n",
        "    ('Charlie', 21),\n",
        "    ('David', 23),\n",
        "    ('Eva', 19)\n",
        "]\n",
        "cursor.executemany('INSERT INTO Students (name, age) VALUES (?, ?);', students_data)\n",
        "\n",
        "# Insert data into Courses\n",
        "courses_data = [\n",
        "    ('Mathematics', 3),\n",
        "    ('Physics', 4),\n",
        "    ('Chemistry', 3)\n",
        "]\n",
        "cursor.executemany('INSERT INTO Courses (title, credits) VALUES (?, ?);', courses_data)\n",
        "\n",
        "# Insert data into Enrollments\n",
        "enrollments_data = [\n",
        "    (1, 1),\n",
        "    (1, 2),\n",
        "    (2, 1),\n",
        "    (3, 3),\n",
        "    (4, 2)\n",
        "]\n",
        "cursor.executemany('INSERT INTO Enrollments (student_id, course_id) VALUES (?, ?);', enrollments_data)\n",
        "\n",
        "# Commit the changes\n",
        "conn.commit()"
      ],
      "metadata": {
        "id": "Rz43g6_Mw03L"
      },
      "execution_count": 3,
      "outputs": []
    },
    {
      "cell_type": "code",
      "source": [
        "# Read data from Students\n",
        "students_df = pd.read_sql_query('SELECT * FROM Students;', conn)\n",
        "print(\"Students:\\n\", students_df)\n",
        "\n",
        "# Read data from Courses\n",
        "courses_df = pd.read_sql_query('SELECT * FROM Courses;', conn)\n",
        "print(\"\\nCourses:\\n\", courses_df)\n",
        "\n",
        "# Read data from Enrollments\n",
        "enrollments_df = pd.read_sql_query('SELECT * FROM Enrollments;', conn)\n",
        "print(\"\\nEnrollments:\\n\", enrollments_df)"
      ],
      "metadata": {
        "colab": {
          "base_uri": "https://localhost:8080/"
        },
        "id": "TooK_KOMw6iY",
        "outputId": "2bfb934a-4208-4bcf-a6a1-5d6b2b97eaf0"
      },
      "execution_count": 4,
      "outputs": [
        {
          "output_type": "stream",
          "name": "stdout",
          "text": [
            "Students:\n",
            "    id     name  age\n",
            "0   1    Alice   20\n",
            "1   2      Bob   22\n",
            "2   3  Charlie   21\n",
            "3   4    David   23\n",
            "4   5      Eva   19\n",
            "\n",
            "Courses:\n",
            "    id        title  credits\n",
            "0   1  Mathematics        3\n",
            "1   2      Physics        4\n",
            "2   3    Chemistry        3\n",
            "\n",
            "Enrollments:\n",
            "    student_id  course_id\n",
            "0           1          1\n",
            "1           1          2\n",
            "2           2          1\n",
            "3           3          3\n",
            "4           4          2\n"
          ]
        }
      ]
    },
    {
      "cell_type": "code",
      "source": [
        "# Close the connection\n",
        "conn.close()"
      ],
      "metadata": {
        "id": "7HzdhRmLw_Bm"
      },
      "execution_count": 5,
      "outputs": []
    }
  ]
}