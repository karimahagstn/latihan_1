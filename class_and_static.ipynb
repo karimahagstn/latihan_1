{
  "nbformat": 4,
  "nbformat_minor": 0,
  "metadata": {
    "colab": {
      "provenance": [],
      "authorship_tag": "ABX9TyMCGk9XeYCCJK04q9IbmmEX",
      "include_colab_link": true
    },
    "kernelspec": {
      "name": "python3",
      "display_name": "Python 3"
    },
    "language_info": {
      "name": "python"
    }
  },
  "cells": [
    {
      "cell_type": "markdown",
      "metadata": {
        "id": "view-in-github",
        "colab_type": "text"
      },
      "source": [
        "<a href=\"https://colab.research.google.com/github/karimahagstn/latihan_1/blob/main/class_and_static.ipynb\" target=\"_parent\"><img src=\"https://colab.research.google.com/assets/colab-badge.svg\" alt=\"Open In Colab\"/></a>"
      ]
    },
    {
      "source": [
        "class Student:\n",
        "    school_name = \"ALEXANDRIA HIGH\"\n",
        "\n",
        "    def __init__(self, name, grade):\n",
        "        self.name = name\n",
        "        self.grade = grade\n",
        "\n",
        "    # Class Method\n",
        "    @classmethod\n",
        "    def change_school(cls, new_name):\n",
        "        cls.school_name = new_name\n",
        "        print(f\"School name changed to: {cls.school_name}\")\n",
        "\n",
        "    # Static Method\n",
        "    @staticmethod\n",
        "    def is_passing(grade):\n",
        "        return grade >= 60\n",
        "\n",
        "# Example usage\n",
        "student1 = Student(\"Hanif\", 85)\n",
        "student2 = Student(\"Illy\", 55)\n",
        "\n",
        "print(f\"{student1.name} from {student1.school_name}\")\n",
        "# Corrected: Access school_name directly from the instance\n",
        "print(f\"{student2.name} from {student2.school_name}\")\n",
        "\n",
        "Student.change_school(\"lexandria Academy\")\n",
        "\n",
        "print(Student.is_passing(student1.grade))\n",
        "print(Student.is_passing(student2.grade))"
      ],
      "cell_type": "code",
      "metadata": {
        "colab": {
          "base_uri": "https://localhost:8080/"
        },
        "id": "opRFM9JaZV7k",
        "outputId": "a1f4af5a-4c73-490d-b717-72f4ea59512a"
      },
      "execution_count": 6,
      "outputs": [
        {
          "output_type": "stream",
          "name": "stdout",
          "text": [
            "Hanif from ALEXANDRIA HIGH\n",
            "Illy from ALEXANDRIA HIGH\n",
            "School name changed to: lexandria Academy\n",
            "True\n",
            "False\n"
          ]
        }
      ]
    }
  ]
}