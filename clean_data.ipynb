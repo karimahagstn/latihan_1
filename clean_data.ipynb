{
  "nbformat": 4,
  "nbformat_minor": 0,
  "metadata": {
    "colab": {
      "provenance": [],
      "authorship_tag": "ABX9TyNVtg4Ej1KhFDuCzulB9dnj",
      "include_colab_link": true
    },
    "kernelspec": {
      "name": "python3",
      "display_name": "Python 3"
    },
    "language_info": {
      "name": "python"
    }
  },
  "cells": [
    {
      "cell_type": "markdown",
      "metadata": {
        "id": "view-in-github",
        "colab_type": "text"
      },
      "source": [
        "<a href=\"https://colab.research.google.com/github/karimahagstn/latihan_1/blob/main/clean_data.ipynb\" target=\"_parent\"><img src=\"https://colab.research.google.com/assets/colab-badge.svg\" alt=\"Open In Colab\"/></a>"
      ]
    },
    {
      "cell_type": "code",
      "execution_count": null,
      "metadata": {
        "colab": {
          "base_uri": "https://localhost:8080/"
        },
        "id": "B3PnfkyuxcaC",
        "outputId": "fc0c061c-3d37-497c-adb4-53c0b2c1b715"
      },
      "outputs": [
        {
          "output_type": "stream",
          "name": "stdout",
          "text": [
            "Requirement already satisfied: pyspark in /usr/local/lib/python3.11/dist-packages (3.5.5)\n",
            "Requirement already satisfied: py4j==0.10.9.7 in /usr/local/lib/python3.11/dist-packages (from pyspark) (0.10.9.7)\n"
          ]
        }
      ],
      "source": [
        "!pip install pyspark"
      ]
    },
    {
      "cell_type": "code",
      "source": [
        "from pyspark.sql import SparkSession\n",
        "spark = SparkSession.builder.appName (\"DataCleaningExample\" ).getOrCreate ()\n"
      ],
      "metadata": {
        "id": "X0me6jWex-_8"
      },
      "execution_count": null,
      "outputs": []
    },
    {
      "cell_type": "code",
      "source": [
        "df = spark.read.csv('/content/datasetcleaning/data_transaksi.csv', header=True, inferSchema=True)\n",
        "df.show()\n"
      ],
      "metadata": {
        "colab": {
          "base_uri": "https://localhost:8080/"
        },
        "id": "vx8CFV6szg5X",
        "outputId": "8d23df98-6960-438a-fceb-142653f98de5"
      },
      "execution_count": null,
      "outputs": [
        {
          "output_type": "stream",
          "name": "stdout",
          "text": [
            "+----------+--------------------+-----+----------+-----------------+----------+---------------+\n",
            "|      Nama|               Email| Umur|Pendapatan|Tanggal Pembelian|    Produk|Nilai Transaksi|\n",
            "+----------+--------------------+-----+----------+-----------------+----------+---------------+\n",
            "|   Anthony|   dawnday@gmail.com| 24.0|   3553265|       01/13/1974|    Laptop|        2736049|\n",
            "|    Robert|    pbrown@gmail.com| NULL|   5525753|       03-05-2004|    Tablet|        4996241|\n",
            "|   Melissa| ethan99@clayton.com| NULL|   4911936|       28-04-1970|  Handpone|        3169456|\n",
            "|   Timothy|johnsonmegan@gmai...|200.0|3140485039|       03/09/2003|    Laptop|         506622|\n",
            "|     Kelly|keithwebster(at)e...|200.0|3833611071|       17-01-2022|   Tablett|        9969204|\n",
            "|     Jared| qwiggins@hodges.com| 69.0|   8024480|       02-01-2005|   Tablett|        3093351|\n",
            "|    Nicole|ogonzalez@hotmail...|200.0|4286346096|       08-01-2024| Handphone|        3007158|\n",
            "|     Mason|lisasmith@hotmail...| NULL|   9858877|       10/12/1994|Smartwatch|        4734266|\n",
            "|    Pamela|megancosta@yahoo.com| 39.0|4743642660|       16-08-2011|    Laptop|        8043250|\n",
            "|     Chloe|kelligonzalez@hot...| NULL|3214144288|       10-02-2008| Smartwach|        7845719|\n",
            "|    Jeanne|    elewis@gmail.com|200.0|1343883642|       17-06-2004| Handphone|        8598980|\n",
            "|      Lisa|baileyvickie@hotm...| NULL|   3359174|       08/17/1993| Headphone|        3423186|\n",
            "|      Jose|lindseycollins(at...|200.0|4718948795|       07/07/2021|Smartwatch|        6713101|\n",
            "|Jacqueline|brianwilliams@yah...| NULL|   6815157|       07/15/2000|Headphonee|        1927889|\n",
            "|   Raymond|santiagoscott(at)...|200.0|2866365700|       07/18/1993|Smartwatch|        6530558|\n",
            "|    Walter|chapmanalexander@...| NULL|   7890477|       26-02-2011|    Laptop|        4336671|\n",
            "|      Gail|    nshort@yahoo.com| NULL|   7061317|       15-07-1972| Headphone|        8679926|\n",
            "|   Monique|   hthomas@moore.com|200.0|   5478040|       06/22/1994|    Laptop|        8598229|\n",
            "|      Anna| timothy21@gmail.com|200.0|   5214212|       08-12-2013|   Tablett|        7335193|\n",
            "|      Tara| amanda77@stuart.com| 37.0|3417336527|       22-10-1989| Headphone|        6370142|\n",
            "+----------+--------------------+-----+----------+-----------------+----------+---------------+\n",
            "only showing top 20 rows\n",
            "\n"
          ]
        }
      ]
    },
    {
      "cell_type": "code",
      "source": [
        "df.printSchema ()\n",
        "df.describe ( ).show ()\n",
        "df.columns\n"
      ],
      "metadata": {
        "colab": {
          "base_uri": "https://localhost:8080/"
        },
        "id": "dA-_mWzk0FPN",
        "outputId": "d82c76c5-d977-4617-beca-7767d5e3a0b0"
      },
      "execution_count": null,
      "outputs": [
        {
          "output_type": "stream",
          "name": "stdout",
          "text": [
            "root\n",
            " |-- Nama: string (nullable = true)\n",
            " |-- Email: string (nullable = true)\n",
            " |-- Umur: double (nullable = true)\n",
            " |-- Pendapatan: long (nullable = true)\n",
            " |-- Tanggal Pembelian: string (nullable = true)\n",
            " |-- Produk: string (nullable = true)\n",
            " |-- Nilai Transaksi: integer (nullable = true)\n",
            "\n",
            "+-------+------+-------------------+------------------+--------------------+-----------------+---------+------------------+\n",
            "|summary|  Nama|              Email|              Umur|          Pendapatan|Tanggal Pembelian|   Produk|   Nilai Transaksi|\n",
            "+-------+------+-------------------+------------------+--------------------+-----------------+---------+------------------+\n",
            "|  count|   100|                100|                68|                 100|              100|      100|               100|\n",
            "|   mean|  NULL|               NULL|111.86764705882354|     1.65132351882E9|             NULL|     NULL|        5556026.09|\n",
            "| stddev|  NULL|               NULL| 77.42110175763524|1.8103144429023266E9|             NULL|     NULL|2594395.9001886775|\n",
            "|    min| Aaron|allison19@yahoo.com|              19.0|             3052819|       01-12-2023|Handphone|            506622|\n",
            "|    max|Walter|  ztodd@hotmail.com|             200.0|          4974434132|       31-12-1972|  Tablett|           9969204|\n",
            "+-------+------+-------------------+------------------+--------------------+-----------------+---------+------------------+\n",
            "\n"
          ]
        },
        {
          "output_type": "execute_result",
          "data": {
            "text/plain": [
              "['Nama',\n",
              " 'Email',\n",
              " 'Umur',\n",
              " 'Pendapatan',\n",
              " 'Tanggal Pembelian',\n",
              " 'Produk',\n",
              " 'Nilai Transaksi']"
            ]
          },
          "metadata": {},
          "execution_count": 22
        }
      ]
    },
    {
      "cell_type": "code",
      "source": [
        "df_clean = df.dropDuplicates ()"
      ],
      "metadata": {
        "id": "by5IOYB30ROQ"
      },
      "execution_count": null,
      "outputs": []
    },
    {
      "cell_type": "code",
      "source": [
        "df_clean = df_clean.na.drop(subset=[\"nama\"])"
      ],
      "metadata": {
        "id": "rHlQXeg3G6RC"
      },
      "execution_count": null,
      "outputs": []
    },
    {
      "cell_type": "code",
      "source": [
        "df_clean = df_clean.fillna({'Produk': 'Unknown'})"
      ],
      "metadata": {
        "id": "TynkL0TcHuen"
      },
      "execution_count": 26,
      "outputs": []
    },
    {
      "source": [
        "from pyspark.sql.functions import lower\n",
        "df_clean = df_clean.withColumn ('Nama', lower(df_clean['nama'])) # Removed the space in \"df_ clean\""
      ],
      "cell_type": "code",
      "metadata": {
        "id": "uwdYSp7iFOAD"
      },
      "execution_count": 27,
      "outputs": []
    },
    {
      "cell_type": "code",
      "source": [
        "from pyspark.sql.functions import col\n",
        "df_clean = df_clean.withColumn(\"Umur\", col(\"Umur\").cast(\"int\"))\n"
      ],
      "metadata": {
        "id": "rfP7k9lUGULn"
      },
      "execution_count": 29,
      "outputs": []
    },
    {
      "cell_type": "code",
      "source": [
        "df = spark.read.csv('/content/datasetcleaning/data_transaksi.csv', header=True, inferSchema=True)\n",
        "df = df.dropDuplicates()\n",
        "df = df.na.drop(subset=[\"nama\"])\n",
        "df = df.fillna({'Produk': 'Unknown'})\n",
        "df = df.withColumn('Umur', col('Umur').cast('int'))\n",
        "df.show()\n"
      ],
      "metadata": {
        "colab": {
          "base_uri": "https://localhost:8080/"
        },
        "id": "vTngkLazJMTl",
        "outputId": "89e4f843-f705-4488-8d6c-06c5b07f509e"
      },
      "execution_count": 32,
      "outputs": [
        {
          "output_type": "stream",
          "name": "stdout",
          "text": [
            "+--------+--------------------+----+----------+-----------------+----------+---------------+\n",
            "|    Nama|               Email|Umur|Pendapatan|Tanggal Pembelian|    Produk|Nilai Transaksi|\n",
            "+--------+--------------------+----+----------+-----------------+----------+---------------+\n",
            "| Timothy|johnsonmegan@gmai...| 200|3140485039|       03/09/2003|    Laptop|         506622|\n",
            "|    Mike|owensrobert@hotma...|  59|3741985672|       11/28/2004|    Laptop|        7711290|\n",
            "|Madeline|martinezmario@gma...| 200|3200189219|       12/05/1979|Smartwatch|        1908029|\n",
            "| Raymond|santiagoscott(at)...| 200|2866365700|       07/18/1993|Smartwatch|        6530558|\n",
            "|Benjamin|brittanygreen@mar...| 200|4075982395|       17-02-1982|    Tablet|        9067792|\n",
            "|  Leslie|maysannette@gmail...| 200|   8372468|       09/13/1981|Smartwatch|        4957082|\n",
            "| Cynthia|lonnieandrews@cis...|  49|   5139026|       02/10/2000|   Tablett|        2393089|\n",
            "|  Debbie| allison19@yahoo.com|  41|4974434132|       24-04-1982|Headphonee|        7488725|\n",
            "|  Rachel|jjenkins@osborne....|  66|   6422484|       02-08-1993| Smartwach|        5974942|\n",
            "|    Sean|ronald86(at)email...|  43|   7309258|       09/21/2020|    Laptop|        6997815|\n",
            "|  Amanda|melissa50@hotmail...|  45|   4765981|       13-06-2014|Smartwatch|        2110772|\n",
            "|  Robert| jason16@hotmail.com|  31|   6167831|       05/31/1972| Handphone|        4166003|\n",
            "|     Roy|    psmith@gmail.com| 200|   7372475|       02/10/1994|Headphonee|         808089|\n",
            "|   James|angela86@hernande...|  21|1750047896|       07/07/1970|    Laptop|        8695785|\n",
            "|   April|danny11@ruiz-mart...| 200|4947285884|       08/31/1978|  Handpone|        6617945|\n",
            "|  Robert|hinessamantha@gma...| 200|4906271009|       21-12-2000| Handphone|        3938680|\n",
            "|   Aaron|scottjacqueline@l...|  49|3087774620|       08/20/1983|    Laptop|        6703858|\n",
            "|  Sydney|thomaskrause@mart...|  24|4306503420|       02-10-2012|  Handpone|        6225011|\n",
            "| Annette|omendez@estes-rey...| 200|2519948005|       16-03-2003|    Laptop|        5734109|\n",
            "|    Jose|lindseycollins(at...| 200|4718948795|       07/07/2021|Smartwatch|        6713101|\n",
            "+--------+--------------------+----+----------+-----------------+----------+---------------+\n",
            "only showing top 20 rows\n",
            "\n"
          ]
        }
      ]
    },
    {
      "cell_type": "code",
      "source": [
        "df_clean.write.csv('cleaned_data.csv', header=True, mode='overwrite')\n"
      ],
      "metadata": {
        "id": "Q5SGMVRWKOQv"
      },
      "execution_count": 34,
      "outputs": []
    },
    {
      "cell_type": "code",
      "source": [
        "import os\n",
        "os.listdir('cleaned_data.csv')\n"
      ],
      "metadata": {
        "colab": {
          "base_uri": "https://localhost:8080/"
        },
        "id": "u8PMU0YcKzPo",
        "outputId": "5fcd9bbe-8443-4a2f-85ba-fdf40a3c1794"
      },
      "execution_count": 35,
      "outputs": [
        {
          "output_type": "execute_result",
          "data": {
            "text/plain": [
              "['part-00000-6a8adbf0-d94f-4f98-bc90-a4e6cfab5ff3-c000.csv',\n",
              " '.part-00000-6a8adbf0-d94f-4f98-bc90-a4e6cfab5ff3-c000.csv.crc',\n",
              " '._SUCCESS.crc',\n",
              " '_SUCCESS']"
            ]
          },
          "metadata": {},
          "execution_count": 35
        }
      ]
    },
    {
      "cell_type": "code",
      "source": [
        "df_result = spark.read.csv('cleaned_data.csv', header=True, inferSchema=True)\n",
        "df_result.show()\n"
      ],
      "metadata": {
        "colab": {
          "base_uri": "https://localhost:8080/"
        },
        "id": "5r0ewxc6K0xP",
        "outputId": "85ed1ec1-a22c-44d7-efd6-b27802ecbe02"
      },
      "execution_count": 36,
      "outputs": [
        {
          "output_type": "stream",
          "name": "stdout",
          "text": [
            "+--------+--------------------+----+----------+-----------------+----------+---------------+\n",
            "|    Nama|               Email|Umur|Pendapatan|Tanggal Pembelian|    Produk|Nilai Transaksi|\n",
            "+--------+--------------------+----+----------+-----------------+----------+---------------+\n",
            "| timothy|johnsonmegan@gmai...| 200|3140485039|       03/09/2003|    Laptop|         506622|\n",
            "|    mike|owensrobert@hotma...|  59|3741985672|       11/28/2004|    Laptop|        7711290|\n",
            "|madeline|martinezmario@gma...| 200|3200189219|       12/05/1979|Smartwatch|        1908029|\n",
            "| raymond|santiagoscott(at)...| 200|2866365700|       07/18/1993|Smartwatch|        6530558|\n",
            "|benjamin|brittanygreen@mar...| 200|4075982395|       17-02-1982|    Tablet|        9067792|\n",
            "|  leslie|maysannette@gmail...| 200|   8372468|       09/13/1981|Smartwatch|        4957082|\n",
            "| cynthia|lonnieandrews@cis...|  49|   5139026|       02/10/2000|   Tablett|        2393089|\n",
            "|  debbie| allison19@yahoo.com|  41|4974434132|       24-04-1982|Headphonee|        7488725|\n",
            "|  rachel|jjenkins@osborne....|  66|   6422484|       02-08-1993| Smartwach|        5974942|\n",
            "|    sean|ronald86(at)email...|  43|   7309258|       09/21/2020|    Laptop|        6997815|\n",
            "|  amanda|melissa50@hotmail...|  45|   4765981|       13-06-2014|Smartwatch|        2110772|\n",
            "|  robert| jason16@hotmail.com|  31|   6167831|       05/31/1972| Handphone|        4166003|\n",
            "|     roy|    psmith@gmail.com| 200|   7372475|       02/10/1994|Headphonee|         808089|\n",
            "|   james|angela86@hernande...|  21|1750047896|       07/07/1970|    Laptop|        8695785|\n",
            "|   april|danny11@ruiz-mart...| 200|4947285884|       08/31/1978|  Handpone|        6617945|\n",
            "|  robert|hinessamantha@gma...| 200|4906271009|       21-12-2000| Handphone|        3938680|\n",
            "|   aaron|scottjacqueline@l...|  49|3087774620|       08/20/1983|    Laptop|        6703858|\n",
            "|  sydney|thomaskrause@mart...|  24|4306503420|       02-10-2012|  Handpone|        6225011|\n",
            "| annette|omendez@estes-rey...| 200|2519948005|       16-03-2003|    Laptop|        5734109|\n",
            "|    jose|lindseycollins(at...| 200|4718948795|       07/07/2021|Smartwatch|        6713101|\n",
            "+--------+--------------------+----+----------+-----------------+----------+---------------+\n",
            "only showing top 20 rows\n",
            "\n"
          ]
        }
      ]
    },
    {
      "cell_type": "code",
      "source": [
        "import pandas as pd\n",
        "import glob\n",
        "\n",
        "# Gunakan glob untuk cari semua file part CSV\n",
        "file_list = glob.glob(\"cleaned_data.csv/part-*.csv\")\n",
        "\n",
        "# Gabungkan semua file CSV menjadi satu dataframe pandas\n",
        "df_list = [pd.read_csv(file) for file in file_list]\n",
        "df_pd = pd.concat(df_list, ignore_index=True)\n",
        "\n",
        "# Simpan sebagai file tunggal\n",
        "df_pd.to_csv(\"cleaned_data_final.csv\", index=False)\n"
      ],
      "metadata": {
        "id": "GA8bwXe_K4Wj"
      },
      "execution_count": 38,
      "outputs": []
    },
    {
      "cell_type": "code",
      "source": [
        "from google.colab import files\n",
        "files.download(\"cleaned_data_final.csv\")\n"
      ],
      "metadata": {
        "colab": {
          "base_uri": "https://localhost:8080/",
          "height": 17
        },
        "id": "zzp3xCWCLTFG",
        "outputId": "e9bb7ca5-c832-496d-b5f2-c36633d14dcb"
      },
      "execution_count": 39,
      "outputs": [
        {
          "output_type": "display_data",
          "data": {
            "text/plain": [
              "<IPython.core.display.Javascript object>"
            ],
            "application/javascript": [
              "\n",
              "    async function download(id, filename, size) {\n",
              "      if (!google.colab.kernel.accessAllowed) {\n",
              "        return;\n",
              "      }\n",
              "      const div = document.createElement('div');\n",
              "      const label = document.createElement('label');\n",
              "      label.textContent = `Downloading \"${filename}\": `;\n",
              "      div.appendChild(label);\n",
              "      const progress = document.createElement('progress');\n",
              "      progress.max = size;\n",
              "      div.appendChild(progress);\n",
              "      document.body.appendChild(div);\n",
              "\n",
              "      const buffers = [];\n",
              "      let downloaded = 0;\n",
              "\n",
              "      const channel = await google.colab.kernel.comms.open(id);\n",
              "      // Send a message to notify the kernel that we're ready.\n",
              "      channel.send({})\n",
              "\n",
              "      for await (const message of channel.messages) {\n",
              "        // Send a message to notify the kernel that we're ready.\n",
              "        channel.send({})\n",
              "        if (message.buffers) {\n",
              "          for (const buffer of message.buffers) {\n",
              "            buffers.push(buffer);\n",
              "            downloaded += buffer.byteLength;\n",
              "            progress.value = downloaded;\n",
              "          }\n",
              "        }\n",
              "      }\n",
              "      const blob = new Blob(buffers, {type: 'application/binary'});\n",
              "      const a = document.createElement('a');\n",
              "      a.href = window.URL.createObjectURL(blob);\n",
              "      a.download = filename;\n",
              "      div.appendChild(a);\n",
              "      a.click();\n",
              "      div.remove();\n",
              "    }\n",
              "  "
            ]
          },
          "metadata": {}
        },
        {
          "output_type": "display_data",
          "data": {
            "text/plain": [
              "<IPython.core.display.Javascript object>"
            ],
            "application/javascript": [
              "download(\"download_5e52beaf-f8d8-4520-aa7b-702d53212e6e\", \"cleaned_data_final.csv\", 7251)"
            ]
          },
          "metadata": {}
        }
      ]
    }
  ]
}